{
  "nbformat": 4,
  "nbformat_minor": 0,
  "metadata": {
    "colab": {
      "name": "Assignment Day1.ipynb",
      "provenance": []
    },
    "kernelspec": {
      "name": "python3",
      "display_name": "Python 3"
    },
    "language_info": {
      "name": "python"
    }
  },
  "cells": [
    {
      "cell_type": "code",
      "metadata": {
        "colab": {
          "base_uri": "https://localhost:8080/"
        },
        "id": "ii89uScM64Xx",
        "outputId": "fda4f195-b954-4e35-89c6-cc5502826f3b"
      },
      "source": [
        " #vowels list\n",
        " vowels=['e','a','u','o','i']\n",
        " #sort the vowels\n",
        " vowels.sort()\n",
        " #print vowels\n",
        " print('sorted list\":', vowels)"
      ],
      "execution_count": 1,
      "outputs": [
        {
          "output_type": "stream",
          "text": [
            "sorted list\": ['a', 'e', 'i', 'o', 'u']\n"
          ],
          "name": "stdout"
        }
      ]
    },
    {
      "cell_type": "code",
      "metadata": {
        "id": "Db36GbLW7exY"
      },
      "source": [
        ""
      ],
      "execution_count": null,
      "outputs": []
    }
  ]
}